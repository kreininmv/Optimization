{
  "nbformat": 4,
  "nbformat_minor": 0,
  "metadata": {
    "colab": {
      "provenance": []
    },
    "kernelspec": {
      "name": "python3",
      "display_name": "Python 3"
    },
    "language_info": {
      "name": "python"
    }
  },
  "cells": [
    {
      "cell_type": "code",
      "execution_count": null,
      "metadata": {
        "colab": {
          "base_uri": "https://localhost:8080/"
        },
        "id": "Km873z-JFta-",
        "outputId": "1d627ce7-077e-4da8-a2e5-f48a09ae076b"
      },
      "outputs": [
        {
          "output_type": "stream",
          "name": "stdout",
          "text": [
            "Looking in indexes: https://pypi.org/simple, https://us-python.pkg.dev/colab-wheels/public/simple/\n",
            "Requirement already satisfied: pyomo in /usr/local/lib/python3.8/dist-packages (6.4.4)\n",
            "Requirement already satisfied: ply in /usr/local/lib/python3.8/dist-packages (from pyomo) (3.11)\n",
            "Reading package lists...\n",
            "Building dependency tree...\n",
            "Reading state information...\n",
            "glpk-utils is already the newest version (4.65-1).\n",
            "The following package was automatically installed and is no longer required:\n",
            "  libnvidia-common-460\n",
            "Use 'sudo apt autoremove' to remove it.\n",
            "0 upgraded, 0 newly installed, 0 to remove and 20 not upgraded.\n",
            "Reading package lists...\n",
            "Building dependency tree...\n",
            "Reading state information...\n",
            "coinor-cbc is already the newest version (2.9.9+repack1-1).\n",
            "The following package was automatically installed and is no longer required:\n",
            "  libnvidia-common-460\n",
            "Use 'sudo apt autoremove' to remove it.\n",
            "0 upgraded, 0 newly installed, 0 to remove and 20 not upgraded.\n"
          ]
        }
      ],
      "source": [
        "!pip install pyomo\n",
        "! sudo apt-get install glpk-utils --quiet  # GLPK\n",
        "! sudo apt-get install coinor-cbc --quiet  # CoinOR"
      ]
    },
    {
      "cell_type": "code",
      "source": [
        "from IPython.display import clear_output\n",
        "\n",
        "# Installing cbc solver\n",
        "import matplotlib.pyplot as plt\n",
        "import numpy as np\n",
        "\n",
        "import shutil\n",
        "import sys\n",
        "import os.path\n",
        "\n",
        "if not shutil.which(\"pyomo\"):\n",
        "    !pip install -q pyomo\n",
        "    assert(shutil.which(\"pyomo\"))\n",
        "\n",
        "if not (shutil.which(\"cbc\") or os.path.isfile(\"cbc\")):\n",
        "    if \"google.colab\" in sys.modules:\n",
        "        !apt-get install -y -qq coinor-cbc\n",
        "    else:\n",
        "        try:\n",
        "            !conda install -c conda-forge coincbc \n",
        "        except:\n",
        "            pass\n",
        "\n",
        "assert(shutil.which(\"cbc\") or os.path.isfile(\"cbc\"))\n",
        "\n",
        "from pyomo.environ import *\n",
        "\n",
        "clear_output()"
      ],
      "metadata": {
        "id": "Ey8w_VOEGLOM"
      },
      "execution_count": null,
      "outputs": []
    },
    {
      "cell_type": "code",
      "source": [
        "from pyomo.environ import *\n",
        "infinity = float('inf')\n",
        "\n",
        "model = AbstractModel()\n",
        "# Covers\n",
        "model.F = Set()\n",
        "\n",
        "# Storage\n",
        "model.N = Set()\n",
        "\n",
        "# Revenue of each cover\n",
        "model.c = Param(model.F, within=PositiveReals)\n",
        "# Size of each cover\n",
        "model.a = Param(model.F, model.N, within=NonNegativeReals)\n",
        "\n",
        "# Lower and upper bound on each cover\n",
        "model.Nmin = Param(model.N, within=NonNegativeReals, default =0.0)\n",
        "model.Nmax = Param(model.N, within=NonNegativeReals, default=infinity)\n",
        "\n",
        "# Maximum producing per each cover\n",
        "model.V = Param(model.F, within=PositiveReals)\n",
        "\n",
        "# Maximum producing of cover consumed\n",
        "model.Vmax = Param(within=PositiveReals)\n",
        "\n",
        "# Number of cover\n",
        "model.x = Var(model.F, within=NonNegativeIntegers)"
      ],
      "metadata": {
        "id": "VR7ed6eyGQGC"
      },
      "execution_count": null,
      "outputs": []
    },
    {
      "cell_type": "code",
      "source": [
        "# Maximize the revenue of covered\n",
        "def cost_rule(model):\n",
        "    return sum(model.c[i] * model.x[i] for i in model.F) + 58500\n",
        "model.cost = Objective(rule=cost_rule)\n",
        "\n",
        "# Limit for volume of covers\n",
        "def volume_rule(model, j):\n",
        "    value = sum(model.a[i, j] * model.x[i] for i in model.F)\n",
        "    return inequality(model.Nmin[j], value, model.Nmax[j])\n",
        "\n",
        "model.volume_limit = Constraint(model.N, rule=volume_rule)\n",
        "\n",
        "def producing_rule(model):\n",
        "    return sum(model.V[i]*model.x[i] for i in model.F) <= model.Vmax\n",
        "\n",
        "model.producing = Constraint(rule=producing_rule)"
      ],
      "metadata": {
        "colab": {
          "base_uri": "https://localhost:8080/"
        },
        "id": "hCkQ9miENCAB",
        "outputId": "de624c7a-8465-4847-fcbc-f9b84fe1c3f8"
      },
      "execution_count": null,
      "outputs": [
        {
          "output_type": "stream",
          "name": "stderr",
          "text": [
            "WARNING:pyomo.core:Implicitly replacing the Component attribute volume_limit (type=<class 'pyomo.core.base.constraint.IndexedConstraint'>) on block unknown with a new Component (type=<class 'pyomo.core.base.constraint.IndexedConstraint'>).\n",
            "This is usually indicative of a modelling error.\n",
            "To avoid this warning, use block.del_component() and block.add_component().\n",
            "WARNING:pyomo.core:Implicitly replacing the Component attribute producing (type=<class 'pyomo.core.base.constraint.AbstractScalarConstraint'>) on block unknown with a new Component (type=<class 'pyomo.core.base.constraint.AbstractScalarConstraint'>).\n",
            "This is usually indicative of a modelling error.\n",
            "To avoid this warning, use block.del_component() and block.add_component().\n"
          ]
        }
      ]
    },
    {
      "cell_type": "code",
      "source": [
        "!cat LP_cover.py"
      ],
      "metadata": {
        "colab": {
          "base_uri": "https://localhost:8080/"
        },
        "id": "JHHq8A7oQNRU",
        "outputId": "0c2cba43-1909-4eff-e8b0-cd791d02618d"
      },
      "execution_count": null,
      "outputs": [
        {
          "output_type": "stream",
          "name": "stdout",
          "text": [
            "import pyomo.environ as pyo\r\n",
            "infinity = float('inf')\r\n",
            "\r\n",
            "model = pyo.AbstractModel(sense=pyo.maximize)\r\n",
            "\r\n",
            "# Covers\r\n",
            "model.F = pyo.Set()\r\n",
            "# Storage\r\n",
            "model.N = pyo.Set()\r\n",
            "\r\n",
            "# Revenue of each cover\r\n",
            "model.c = pyo.Param(model.F, within=pyo.PositiveReals)\r\n",
            "# Size of each cover\r\n",
            "model.a = pyo.Param(model.F, model.N, within=pyo.NonNegativeReals)\r\n",
            "\r\n",
            "# Lower and upper bound on each cover\r\n",
            "model.Nmin = pyo.Param(model.N, within=pyo.NonNegativeReals, default =0.0)\r\n",
            "model.Nmax = pyo.Param(model.N, within=pyo.NonNegativeReals, default=infinity)\r\n",
            "\r\n",
            "# Maximum producing per each cover\r\n",
            "model.V = pyo.Param(model.F, within=pyo.PositiveReals)\r\n",
            "# Maximum producing of cover consumed\r\n",
            "model.Vmax = pyo.Param(within=pyo.PositiveReals)\r\n",
            "\r\n",
            "# Number of cover\r\n",
            "model.x = pyo.Var(model.F, within=pyo.NonNegativeIntegers)\r\n",
            "\r\n",
            "# Maximize the revenue of covered\r\n",
            "def cost_rule(model):\r\n",
            "    return sum(model.c[i] * model.x[i] for i in model.F) + 58500\r\n",
            "model.cost = pyo.Objective(rule=cost_rule)\r\n",
            "\r\n",
            "# Limit for volume of covers\r\n",
            "def volume_rule(model, j):\r\n",
            "    value = sum(model.a[i, j] * model.x[i] for i in model.F)\r\n",
            "    return pyo.inequality(model.Nmin[j], value, model.Nmax[j])\r\n",
            "\r\n",
            "model.volume_limit = pyo.Constraint(model.N, rule=volume_rule)\r\n",
            "\r\n",
            "def producing_rule(model):\r\n",
            "    return sum(model.V[i]*model.x[i] for i in model.F) <= model.Vmax\r\n",
            "\r\n",
            "model.producing = pyo.Constraint(rule=producing_rule)"
          ]
        }
      ]
    },
    {
      "cell_type": "code",
      "source": [
        "!cat LP_cover.dat"
      ],
      "metadata": {
        "colab": {
          "base_uri": "https://localhost:8080/"
        },
        "id": "sg1K-A4OQTjz",
        "outputId": "eff381d1-c944-4fb1-9dc4-21f772df7de3"
      },
      "execution_count": null,
      "outputs": [
        {
          "output_type": "stream",
          "name": "stdout",
          "text": [
            "param:  F:                 c     V  :=\n",
            "  \"Headphones\"             5.0    0.0002 \n",
            "  \"Phones\"                 7.0    0.00025  \n",
            "  \"Laptops\"                12.0   0.0005;\n",
            "\n",
            "param Vmax := 3.5;\n",
            "\n",
            "param:  N:       Nmin   Nmax :=\n",
            "        Size      0      705\n",
            "        lim1      0      4500\n",
            "        lim2      0      14000\n",
            "        lim3      0      4000;\n",
            "\n",
            "param a:\n",
            "                             Size   lim1    lim2   lim3 :=\n",
            "  \"Headphones\"               0.03    1.0     0.0    0.0    \n",
            "  \"Phones\"                   0.05    0.0     1.0    0.0    \n",
            "  \"Laptops\"                  0.22    0.0     0.0    0.1    ;\n"
          ]
        }
      ]
    },
    {
      "cell_type": "code",
      "source": [
        "!pyomo solve --solver=cbc LP_cover.py LP_cover.dat"
      ],
      "metadata": {
        "colab": {
          "base_uri": "https://localhost:8080/"
        },
        "id": "nNZMivv1WRA4",
        "outputId": "5480a9cb-cead-4775-f25a-f329bf7d640a"
      },
      "execution_count": null,
      "outputs": [
        {
          "output_type": "stream",
          "name": "stdout",
          "text": [
            "[    0.00] Setting up Pyomo environment\n",
            "[    0.00] Applying Pyomo preprocessing actions\n",
            "[    0.00] Creating model\n",
            "[    0.01] Applying solver\n",
            "[    0.05] Processing results\n",
            "    Number of solutions: 1\n",
            "    Solution Information\n",
            "      Gap: 0.0\n",
            "      Status: optimal\n",
            "      Function Value: 158400.0\n",
            "    Solver results file: results.yml\n",
            "[    0.06] Applying Pyomo postprocessing actions\n",
            "[    0.06] Pyomo Finished\n"
          ]
        }
      ]
    },
    {
      "cell_type": "code",
      "source": [
        "!cat results.yml"
      ],
      "metadata": {
        "colab": {
          "base_uri": "https://localhost:8080/"
        },
        "id": "5IsEBbmUrZ-5",
        "outputId": "bf99da86-6234-451c-eb98-b87ec6f1513f"
      },
      "execution_count": null,
      "outputs": [
        {
          "output_type": "stream",
          "name": "stdout",
          "text": [
            "# ==========================================================\n",
            "# = Solver Results                                         =\n",
            "# ==========================================================\n",
            "# ----------------------------------------------------------\n",
            "#   Problem Information\n",
            "# ----------------------------------------------------------\n",
            "Problem: \n",
            "- Name: unknown\n",
            "  Lower bound: 158400.0\n",
            "  Upper bound: 158400.0\n",
            "  Number of objectives: 1\n",
            "  Number of constraints: 2\n",
            "  Number of variables: 3\n",
            "  Number of binary variables: 0\n",
            "  Number of integer variables: 3\n",
            "  Number of nonzeros: 3\n",
            "  Sense: maximize\n",
            "# ----------------------------------------------------------\n",
            "#   Solver Information\n",
            "# ----------------------------------------------------------\n",
            "Solver: \n",
            "- Status: ok\n",
            "  User time: -1.0\n",
            "  System time: 0.0\n",
            "  Wallclock time: 0.0\n",
            "  Termination condition: optimal\n",
            "  Termination message: Model was solved to optimality (subject to tolerances), and an optimal solution is available.\n",
            "  Statistics: \n",
            "    Branch and bound: \n",
            "      Number of bounded subproblems: 0\n",
            "      Number of created subproblems: 0\n",
            "    Black box: \n",
            "      Number of iterations: 0\n",
            "  Error rc: 0\n",
            "  Time: 0.015547752380371094\n",
            "# ----------------------------------------------------------\n",
            "#   Solution Information\n",
            "# ----------------------------------------------------------\n",
            "Solution: \n",
            "- number of solutions: 1\n",
            "  number of solutions displayed: 1\n",
            "- Gap: 0.0\n",
            "  Status: optimal\n",
            "  Message: None\n",
            "  Objective:\n",
            "    cost:\n",
            "      Value: 158400\n",
            "  Variable:\n",
            "    x[Headphones]:\n",
            "      Value: 1500\n",
            "    x[Phones]:\n",
            "      Value: 13200\n",
            "  Constraint: No values\n"
          ]
        }
      ]
    },
    {
      "cell_type": "markdown",
      "source": [
        "# Results for y"
      ],
      "metadata": {
        "id": "NMxspM3ItD-l"
      }
    },
    {
      "cell_type": "code",
      "source": [
        "!pyomo solve --solver=cbc LP_covery.py LP_covery.dat"
      ],
      "metadata": {
        "colab": {
          "base_uri": "https://localhost:8080/"
        },
        "id": "REvag3J4tDe_",
        "outputId": "096283a3-1641-46ec-9e10-948fe5e79ea1"
      },
      "execution_count": null,
      "outputs": [
        {
          "output_type": "stream",
          "name": "stdout",
          "text": [
            "[    0.00] Setting up Pyomo environment\n",
            "[    0.00] Applying Pyomo preprocessing actions\n",
            "[    0.00] Creating model\n",
            "[    0.01] Applying solver\n",
            "[    0.06] Processing results\n",
            "    Number of solutions: 1\n",
            "    Solution Information\n",
            "      Gap: 0.0\n",
            "      Status: optimal\n",
            "      Function Value: 158400.0\n",
            "    Solver results file: results.yml\n",
            "[    0.06] Applying Pyomo postprocessing actions\n",
            "[    0.06] Pyomo Finished\n"
          ]
        }
      ]
    },
    {
      "cell_type": "code",
      "source": [
        "!cat results.yml"
      ],
      "metadata": {
        "colab": {
          "base_uri": "https://localhost:8080/"
        },
        "id": "OgvGsVwFtjHz",
        "outputId": "1d84fb0c-d5cb-4232-9483-8323ae94a1bb"
      },
      "execution_count": null,
      "outputs": [
        {
          "output_type": "stream",
          "name": "stdout",
          "text": [
            "# ==========================================================\n",
            "# = Solver Results                                         =\n",
            "# ==========================================================\n",
            "# ----------------------------------------------------------\n",
            "#   Problem Information\n",
            "# ----------------------------------------------------------\n",
            "Problem: \n",
            "- Name: unknown\n",
            "  Lower bound: 158400.0\n",
            "  Upper bound: 158400.0\n",
            "  Number of objectives: 1\n",
            "  Number of constraints: 2\n",
            "  Number of variables: 3\n",
            "  Number of binary variables: 0\n",
            "  Number of integer variables: 3\n",
            "  Number of nonzeros: 3\n",
            "  Sense: maximize\n",
            "# ----------------------------------------------------------\n",
            "#   Solver Information\n",
            "# ----------------------------------------------------------\n",
            "Solver: \n",
            "- Status: ok\n",
            "  User time: -1.0\n",
            "  System time: 0.0\n",
            "  Wallclock time: 0.0\n",
            "  Termination condition: optimal\n",
            "  Termination message: Model was solved to optimality (subject to tolerances), and an optimal solution is available.\n",
            "  Statistics: \n",
            "    Branch and bound: \n",
            "      Number of bounded subproblems: 0\n",
            "      Number of created subproblems: 0\n",
            "    Black box: \n",
            "      Number of iterations: 0\n",
            "  Error rc: 0\n",
            "  Time: 0.02250051498413086\n",
            "# ----------------------------------------------------------\n",
            "#   Solution Information\n",
            "# ----------------------------------------------------------\n",
            "Solution: \n",
            "- number of solutions: 1\n",
            "  number of solutions displayed: 1\n",
            "- Gap: 0.0\n",
            "  Status: optimal\n",
            "  Message: None\n",
            "  Objective:\n",
            "    cost:\n",
            "      Value: 158400\n",
            "  Variable:\n",
            "    y[Headphones]:\n",
            "      Value: 6000\n",
            "    y[Laptops]:\n",
            "      Value: 3000\n",
            "    y[Phones]:\n",
            "      Value: 13200\n",
            "  Constraint: No values\n"
          ]
        }
      ]
    }
  ]
}